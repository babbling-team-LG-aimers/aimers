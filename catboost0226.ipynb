{
  "cells": [
    {
      "cell_type": "code",
      "source": [
        "from google.colab import drive\n",
        "drive.mount('/content/drive')"
      ],
      "metadata": {
        "colab": {
          "base_uri": "https://localhost:8080/"
        },
        "id": "Y0CoEgr6cpEJ",
        "outputId": "6cd3255a-8fec-4894-cd65-37c0dd50a1ad"
      },
      "execution_count": 1,
      "outputs": [
        {
          "output_type": "stream",
          "name": "stdout",
          "text": [
            "Mounted at /content/drive\n"
          ]
        }
      ]
    },
    {
      "cell_type": "code",
      "execution_count": 2,
      "metadata": {
        "id": "yiiB2Q4iE4NQ"
      },
      "outputs": [],
      "source": [
        "import pandas as pd\n",
        "import numpy as np\n",
        "\n",
        "# 모델 선택 및 평가 관련 라이브러리\n",
        "from sklearn.model_selection import train_test_split #,GridSearchCV(하이퍼파라미터), cross_val_score(교차 검증)\n",
        "from sklearn.metrics import roc_auc_score, accuracy_score, classification_report\n",
        "                            #(accuracy는 맞춘 비율을 계산하여 정확도를 높이지만, 모델이 클래스 구분을 잘 했는지는 파악 불가\n",
        "                            #roc는 확률값을 활용하여 모델의 성능 평가,, 클래스를 잘 구별하는 지 확인, 1에 가까울수록 좋은 모델\n",
        "                                #accuracy는 데이터가 균형 잡혀 있을 때 G, roc는 데이터가 불균형할 때 G )\n",
        "\n",
        "# 전처리: 범주형 인코딩, 결측치 대체, 스케일링\n",
        "from sklearn.preprocessing import OrdinalEncoder       #범주형 데이터 숫자로 변환\n",
        "from sklearn.preprocessing import StandardScaler       #데이터 표준화하여 평균 0, 표준편차 1로 변환, 데이터 크기 관련X 모델이 동일한 가중치 부여, (SVM, 로지스틱회귀, KNN, PCA 필수)\n",
        "from sklearn.impute import SimpleImputer               #결측치 자동 대체 (strategy='mean':평균값, 'median':중앙값,'most_frequent':최빈값)\n"
      ]
    },
    {
      "cell_type": "code",
      "source": [
        "train = pd.read_csv('/content/drive/MyDrive/open/train.csv').drop(columns=['ID'])\n",
        "test = pd.read_csv('/content/drive/MyDrive/open/test.csv').drop(columns=['ID'])"
      ],
      "metadata": {
        "id": "V6x35cwAhtVj"
      },
      "execution_count": 3,
      "outputs": []
    },
    {
      "cell_type": "code",
      "execution_count": 4,
      "metadata": {
        "id": "G1WRthmTHMm-"
      },
      "outputs": [],
      "source": [
        "# 타겟(입신 성공 여부) 분리 + 결측치 제거\n",
        "y = train['임신 성공 여부']  # 타겟 변수 분리\n",
        "x = train.drop(columns=['임신 성공 여부'])  # 입력 변수(x) 정의\n",
        "\n",
        "# x에서 y의 결측치가 있는 행 제거\n",
        "x = x.loc[y.dropna().index]\n",
        "y = y.dropna()  # y에서도 결측치 제거\n"
      ]
    },
    {
      "cell_type": "code",
      "source": [
        "#범주형 컬럼 전체 정의\n",
        "categorical_columns = [\n",
        "    \"시술 시기 코드\",\n",
        "    \"시술 당시 나이\",\n",
        "    \"시술 유형\",\n",
        "    \"특정 시술 유형\",\n",
        "    \"배란 자극 여부\",\n",
        "    \"배란 유도 유형\",\n",
        "    \"단일 배아 이식 여부\",\n",
        "    \"착상 전 유전 검사 사용 여부\",\n",
        "    \"착상 전 유전 진단 사용 여부\",\n",
        "    \"남성 주 불임 원인\",\n",
        "    \"남성 부 불임 원인\",\n",
        "    \"여성 주 불임 원인\",\n",
        "    \"여성 부 불임 원인\",\n",
        "    \"부부 주 불임 원인\",\n",
        "    \"부부 부 불임 원인\",\n",
        "    \"불명확 불임 원인\",\n",
        "    \"불임 원인 - 난관 질환\",\n",
        "    \"불임 원인 - 남성 요인\",\n",
        "    \"불임 원인 - 배란 장애\",\n",
        "    \"불임 원인 - 여성 요인\",\n",
        "    \"불임 원인 - 자궁경부 문제\",\n",
        "    \"불임 원인 - 자궁내막증\",\n",
        "    \"불임 원인 - 정자 농도\",\n",
        "    \"불임 원인 - 정자 면역학적 요인\",\n",
        "    \"불임 원인 - 정자 운동성\",\n",
        "    \"불임 원인 - 정자 형태\",\n",
        "    \"배아 생성 주요 이유\",\n",
        "    \"총 시술 횟수\",\n",
        "    \"클리닉 내 총 시술 횟수\",\n",
        "    \"IVF 시술 횟수\",\n",
        "    \"DI 시술 횟수\",\n",
        "    \"총 임신 횟수\",\n",
        "    \"IVF 임신 횟수\",\n",
        "    \"DI 임신 횟수\",\n",
        "    \"총 출산 횟수\",\n",
        "    \"IVF 출산 횟수\",\n",
        "    \"DI 출산 횟수\",\n",
        "    \"난자 출처\",\n",
        "    \"정자 출처\",\n",
        "    \"난자 기증자 나이\",\n",
        "    \"정자 기증자 나이\",\n",
        "    \"동결 배아 사용 여부\",\n",
        "    \"신선 배아 사용 여부\",\n",
        "    \"기증 배아 사용 여부\",\n",
        "    \"대리모 여부\",\n",
        "    \"PGD 시술 여부\",\n",
        "    \"PGS 시술 여부\"\n",
        "]\n",
        "\n",
        "#범주형 컬럼을 문자열(str)로 변환\n",
        "for col in categorical_columns:\n",
        "  for col in categorical_columns:\n",
        "    x.loc[:, col] = x[col].astype(str)\n",
        "    test.loc[:, col] = test[col].astype(str)     #.loc[] 활용해야 안전"
      ],
      "metadata": {
        "colab": {
          "base_uri": "https://localhost:8080/"
        },
        "id": "ItAwM0ArsBbZ",
        "outputId": "c9690c3f-ff6e-4191-924e-d53109bfa3e5"
      },
      "execution_count": 5,
      "outputs": [
        {
          "output_type": "stream",
          "name": "stderr",
          "text": [
            "<ipython-input-5-e6a91ad6f264>:55: FutureWarning: Setting an item of incompatible dtype is deprecated and will raise in a future error of pandas. Value '['1' '0' '1' ... '1' '1' '0']' has dtype incompatible with int64, please explicitly cast to a compatible dtype first.\n",
            "  x.loc[:, col] = x[col].astype(str)\n",
            "<ipython-input-5-e6a91ad6f264>:56: FutureWarning: Setting an item of incompatible dtype is deprecated and will raise in a future error of pandas. Value '['1' '1' '1' ... '0' '0' '1']' has dtype incompatible with int64, please explicitly cast to a compatible dtype first.\n",
            "  test.loc[:, col] = test[col].astype(str)     #.loc[] 활용해야 안전\n",
            "<ipython-input-5-e6a91ad6f264>:55: FutureWarning: Setting an item of incompatible dtype is deprecated and will raise in a future error of pandas. Value '['0.0' '0.0' '0.0' ... '0.0' '0.0' '0.0']' has dtype incompatible with float64, please explicitly cast to a compatible dtype first.\n",
            "  x.loc[:, col] = x[col].astype(str)\n",
            "<ipython-input-5-e6a91ad6f264>:56: FutureWarning: Setting an item of incompatible dtype is deprecated and will raise in a future error of pandas. Value '['0.0' '0.0' '0.0' ... '1.0' '0.0' '0.0']' has dtype incompatible with float64, please explicitly cast to a compatible dtype first.\n",
            "  test.loc[:, col] = test[col].astype(str)     #.loc[] 활용해야 안전\n",
            "<ipython-input-5-e6a91ad6f264>:55: FutureWarning: Setting an item of incompatible dtype is deprecated and will raise in a future error of pandas. Value '['nan' 'nan' 'nan' ... 'nan' 'nan' 'nan']' has dtype incompatible with float64, please explicitly cast to a compatible dtype first.\n",
            "  x.loc[:, col] = x[col].astype(str)\n",
            "<ipython-input-5-e6a91ad6f264>:56: FutureWarning: Setting an item of incompatible dtype is deprecated and will raise in a future error of pandas. Value '['nan' 'nan' 'nan' ... 'nan' 'nan' 'nan']' has dtype incompatible with float64, please explicitly cast to a compatible dtype first.\n",
            "  test.loc[:, col] = test[col].astype(str)     #.loc[] 활용해야 안전\n",
            "<ipython-input-5-e6a91ad6f264>:55: FutureWarning: Setting an item of incompatible dtype is deprecated and will raise in a future error of pandas. Value '['0.0' '0.0' '0.0' ... '0.0' '0.0' '0.0']' has dtype incompatible with float64, please explicitly cast to a compatible dtype first.\n",
            "  x.loc[:, col] = x[col].astype(str)\n",
            "<ipython-input-5-e6a91ad6f264>:56: FutureWarning: Setting an item of incompatible dtype is deprecated and will raise in a future error of pandas. Value '['0.0' '0.0' '0.0' ... '0.0' '0.0' '0.0']' has dtype incompatible with float64, please explicitly cast to a compatible dtype first.\n",
            "  test.loc[:, col] = test[col].astype(str)     #.loc[] 활용해야 안전\n",
            "<ipython-input-5-e6a91ad6f264>:55: FutureWarning: Setting an item of incompatible dtype is deprecated and will raise in a future error of pandas. Value '['0' '0' '0' ... '0' '0' '0']' has dtype incompatible with int64, please explicitly cast to a compatible dtype first.\n",
            "  x.loc[:, col] = x[col].astype(str)\n",
            "<ipython-input-5-e6a91ad6f264>:56: FutureWarning: Setting an item of incompatible dtype is deprecated and will raise in a future error of pandas. Value '['0' '0' '0' ... '0' '0' '0']' has dtype incompatible with int64, please explicitly cast to a compatible dtype first.\n",
            "  test.loc[:, col] = test[col].astype(str)     #.loc[] 활용해야 안전\n",
            "<ipython-input-5-e6a91ad6f264>:55: FutureWarning: Setting an item of incompatible dtype is deprecated and will raise in a future error of pandas. Value '['0' '0' '0' ... '0' '0' '0']' has dtype incompatible with int64, please explicitly cast to a compatible dtype first.\n",
            "  x.loc[:, col] = x[col].astype(str)\n",
            "<ipython-input-5-e6a91ad6f264>:56: FutureWarning: Setting an item of incompatible dtype is deprecated and will raise in a future error of pandas. Value '['0' '0' '0' ... '0' '0' '0']' has dtype incompatible with int64, please explicitly cast to a compatible dtype first.\n",
            "  test.loc[:, col] = test[col].astype(str)     #.loc[] 활용해야 안전\n",
            "<ipython-input-5-e6a91ad6f264>:55: FutureWarning: Setting an item of incompatible dtype is deprecated and will raise in a future error of pandas. Value '['0' '0' '0' ... '0' '0' '0']' has dtype incompatible with int64, please explicitly cast to a compatible dtype first.\n",
            "  x.loc[:, col] = x[col].astype(str)\n",
            "<ipython-input-5-e6a91ad6f264>:56: FutureWarning: Setting an item of incompatible dtype is deprecated and will raise in a future error of pandas. Value '['0' '0' '0' ... '0' '0' '0']' has dtype incompatible with int64, please explicitly cast to a compatible dtype first.\n",
            "  test.loc[:, col] = test[col].astype(str)     #.loc[] 활용해야 안전\n",
            "<ipython-input-5-e6a91ad6f264>:55: FutureWarning: Setting an item of incompatible dtype is deprecated and will raise in a future error of pandas. Value '['0' '0' '0' ... '0' '0' '0']' has dtype incompatible with int64, please explicitly cast to a compatible dtype first.\n",
            "  x.loc[:, col] = x[col].astype(str)\n",
            "<ipython-input-5-e6a91ad6f264>:56: FutureWarning: Setting an item of incompatible dtype is deprecated and will raise in a future error of pandas. Value '['0' '0' '0' ... '0' '0' '0']' has dtype incompatible with int64, please explicitly cast to a compatible dtype first.\n",
            "  test.loc[:, col] = test[col].astype(str)     #.loc[] 활용해야 안전\n",
            "<ipython-input-5-e6a91ad6f264>:55: FutureWarning: Setting an item of incompatible dtype is deprecated and will raise in a future error of pandas. Value '['0' '0' '0' ... '0' '0' '0']' has dtype incompatible with int64, please explicitly cast to a compatible dtype first.\n",
            "  x.loc[:, col] = x[col].astype(str)\n",
            "<ipython-input-5-e6a91ad6f264>:56: FutureWarning: Setting an item of incompatible dtype is deprecated and will raise in a future error of pandas. Value '['0' '0' '0' ... '0' '0' '0']' has dtype incompatible with int64, please explicitly cast to a compatible dtype first.\n",
            "  test.loc[:, col] = test[col].astype(str)     #.loc[] 활용해야 안전\n",
            "<ipython-input-5-e6a91ad6f264>:55: FutureWarning: Setting an item of incompatible dtype is deprecated and will raise in a future error of pandas. Value '['0' '0' '0' ... '0' '0' '0']' has dtype incompatible with int64, please explicitly cast to a compatible dtype first.\n",
            "  x.loc[:, col] = x[col].astype(str)\n",
            "<ipython-input-5-e6a91ad6f264>:56: FutureWarning: Setting an item of incompatible dtype is deprecated and will raise in a future error of pandas. Value '['0' '0' '0' ... '0' '0' '0']' has dtype incompatible with int64, please explicitly cast to a compatible dtype first.\n",
            "  test.loc[:, col] = test[col].astype(str)     #.loc[] 활용해야 안전\n",
            "<ipython-input-5-e6a91ad6f264>:55: FutureWarning: Setting an item of incompatible dtype is deprecated and will raise in a future error of pandas. Value '['0' '0' '0' ... '0' '1' '1']' has dtype incompatible with int64, please explicitly cast to a compatible dtype first.\n",
            "  x.loc[:, col] = x[col].astype(str)\n",
            "<ipython-input-5-e6a91ad6f264>:56: FutureWarning: Setting an item of incompatible dtype is deprecated and will raise in a future error of pandas. Value '['1' '0' '0' ... '0' '0' '0']' has dtype incompatible with int64, please explicitly cast to a compatible dtype first.\n",
            "  test.loc[:, col] = test[col].astype(str)     #.loc[] 활용해야 안전\n",
            "<ipython-input-5-e6a91ad6f264>:55: FutureWarning: Setting an item of incompatible dtype is deprecated and will raise in a future error of pandas. Value '['0' '0' '0' ... '0' '0' '0']' has dtype incompatible with int64, please explicitly cast to a compatible dtype first.\n",
            "  x.loc[:, col] = x[col].astype(str)\n",
            "<ipython-input-5-e6a91ad6f264>:56: FutureWarning: Setting an item of incompatible dtype is deprecated and will raise in a future error of pandas. Value '['0' '0' '0' ... '0' '0' '0']' has dtype incompatible with int64, please explicitly cast to a compatible dtype first.\n",
            "  test.loc[:, col] = test[col].astype(str)     #.loc[] 활용해야 안전\n",
            "<ipython-input-5-e6a91ad6f264>:55: FutureWarning: Setting an item of incompatible dtype is deprecated and will raise in a future error of pandas. Value '['1' '0' '1' ... '1' '0' '0']' has dtype incompatible with int64, please explicitly cast to a compatible dtype first.\n",
            "  x.loc[:, col] = x[col].astype(str)\n",
            "<ipython-input-5-e6a91ad6f264>:56: FutureWarning: Setting an item of incompatible dtype is deprecated and will raise in a future error of pandas. Value '['0' '1' '0' ... '0' '0' '0']' has dtype incompatible with int64, please explicitly cast to a compatible dtype first.\n",
            "  test.loc[:, col] = test[col].astype(str)     #.loc[] 활용해야 안전\n",
            "<ipython-input-5-e6a91ad6f264>:55: FutureWarning: Setting an item of incompatible dtype is deprecated and will raise in a future error of pandas. Value '['1' '0' '0' ... '1' '0' '0']' has dtype incompatible with int64, please explicitly cast to a compatible dtype first.\n",
            "  x.loc[:, col] = x[col].astype(str)\n",
            "<ipython-input-5-e6a91ad6f264>:56: FutureWarning: Setting an item of incompatible dtype is deprecated and will raise in a future error of pandas. Value '['0' '0' '0' ... '1' '0' '0']' has dtype incompatible with int64, please explicitly cast to a compatible dtype first.\n",
            "  test.loc[:, col] = test[col].astype(str)     #.loc[] 활용해야 안전\n",
            "<ipython-input-5-e6a91ad6f264>:55: FutureWarning: Setting an item of incompatible dtype is deprecated and will raise in a future error of pandas. Value '['0' '0' '0' ... '0' '0' '0']' has dtype incompatible with int64, please explicitly cast to a compatible dtype first.\n",
            "  x.loc[:, col] = x[col].astype(str)\n",
            "<ipython-input-5-e6a91ad6f264>:56: FutureWarning: Setting an item of incompatible dtype is deprecated and will raise in a future error of pandas. Value '['0' '0' '0' ... '0' '0' '0']' has dtype incompatible with int64, please explicitly cast to a compatible dtype first.\n",
            "  test.loc[:, col] = test[col].astype(str)     #.loc[] 활용해야 안전\n",
            "<ipython-input-5-e6a91ad6f264>:55: FutureWarning: Setting an item of incompatible dtype is deprecated and will raise in a future error of pandas. Value '['0' '0' '0' ... '0' '0' '0']' has dtype incompatible with int64, please explicitly cast to a compatible dtype first.\n",
            "  x.loc[:, col] = x[col].astype(str)\n",
            "<ipython-input-5-e6a91ad6f264>:56: FutureWarning: Setting an item of incompatible dtype is deprecated and will raise in a future error of pandas. Value '['0' '0' '0' ... '0' '0' '0']' has dtype incompatible with int64, please explicitly cast to a compatible dtype first.\n",
            "  test.loc[:, col] = test[col].astype(str)     #.loc[] 활용해야 안전\n",
            "<ipython-input-5-e6a91ad6f264>:55: FutureWarning: Setting an item of incompatible dtype is deprecated and will raise in a future error of pandas. Value '['0' '0' '0' ... '0' '0' '0']' has dtype incompatible with int64, please explicitly cast to a compatible dtype first.\n",
            "  x.loc[:, col] = x[col].astype(str)\n",
            "<ipython-input-5-e6a91ad6f264>:56: FutureWarning: Setting an item of incompatible dtype is deprecated and will raise in a future error of pandas. Value '['0' '0' '0' ... '1' '0' '0']' has dtype incompatible with int64, please explicitly cast to a compatible dtype first.\n",
            "  test.loc[:, col] = test[col].astype(str)     #.loc[] 활용해야 안전\n",
            "<ipython-input-5-e6a91ad6f264>:55: FutureWarning: Setting an item of incompatible dtype is deprecated and will raise in a future error of pandas. Value '['0' '0' '0' ... '0' '0' '0']' has dtype incompatible with int64, please explicitly cast to a compatible dtype first.\n",
            "  x.loc[:, col] = x[col].astype(str)\n",
            "<ipython-input-5-e6a91ad6f264>:56: FutureWarning: Setting an item of incompatible dtype is deprecated and will raise in a future error of pandas. Value '['0' '0' '0' ... '0' '0' '0']' has dtype incompatible with int64, please explicitly cast to a compatible dtype first.\n",
            "  test.loc[:, col] = test[col].astype(str)     #.loc[] 활용해야 안전\n",
            "<ipython-input-5-e6a91ad6f264>:55: FutureWarning: Setting an item of incompatible dtype is deprecated and will raise in a future error of pandas. Value '['0' '0' '0' ... '0' '0' '0']' has dtype incompatible with int64, please explicitly cast to a compatible dtype first.\n",
            "  x.loc[:, col] = x[col].astype(str)\n",
            "<ipython-input-5-e6a91ad6f264>:56: FutureWarning: Setting an item of incompatible dtype is deprecated and will raise in a future error of pandas. Value '['0' '0' '0' ... '0' '0' '0']' has dtype incompatible with int64, please explicitly cast to a compatible dtype first.\n",
            "  test.loc[:, col] = test[col].astype(str)     #.loc[] 활용해야 안전\n",
            "<ipython-input-5-e6a91ad6f264>:55: FutureWarning: Setting an item of incompatible dtype is deprecated and will raise in a future error of pandas. Value '['0' '0' '0' ... '0' '0' '0']' has dtype incompatible with int64, please explicitly cast to a compatible dtype first.\n",
            "  x.loc[:, col] = x[col].astype(str)\n",
            "<ipython-input-5-e6a91ad6f264>:56: FutureWarning: Setting an item of incompatible dtype is deprecated and will raise in a future error of pandas. Value '['0' '0' '0' ... '0' '0' '0']' has dtype incompatible with int64, please explicitly cast to a compatible dtype first.\n",
            "  test.loc[:, col] = test[col].astype(str)     #.loc[] 활용해야 안전\n",
            "<ipython-input-5-e6a91ad6f264>:55: FutureWarning: Setting an item of incompatible dtype is deprecated and will raise in a future error of pandas. Value '['0' '0' '0' ... '0' '0' '0']' has dtype incompatible with int64, please explicitly cast to a compatible dtype first.\n",
            "  x.loc[:, col] = x[col].astype(str)\n",
            "<ipython-input-5-e6a91ad6f264>:56: FutureWarning: Setting an item of incompatible dtype is deprecated and will raise in a future error of pandas. Value '['0' '0' '0' ... '0' '0' '0']' has dtype incompatible with int64, please explicitly cast to a compatible dtype first.\n",
            "  test.loc[:, col] = test[col].astype(str)     #.loc[] 활용해야 안전\n",
            "<ipython-input-5-e6a91ad6f264>:55: FutureWarning: Setting an item of incompatible dtype is deprecated and will raise in a future error of pandas. Value '['0.0' '0.0' '0.0' ... '0.0' '0.0' '1.0']' has dtype incompatible with float64, please explicitly cast to a compatible dtype first.\n",
            "  x.loc[:, col] = x[col].astype(str)\n",
            "<ipython-input-5-e6a91ad6f264>:56: FutureWarning: Setting an item of incompatible dtype is deprecated and will raise in a future error of pandas. Value '['0.0' '0.0' '0.0' ... '0.0' '1.0' '0.0']' has dtype incompatible with float64, please explicitly cast to a compatible dtype first.\n",
            "  test.loc[:, col] = test[col].astype(str)     #.loc[] 활용해야 안전\n",
            "<ipython-input-5-e6a91ad6f264>:55: FutureWarning: Setting an item of incompatible dtype is deprecated and will raise in a future error of pandas. Value '['1.0' '1.0' '1.0' ... '1.0' '1.0' '0.0']' has dtype incompatible with float64, please explicitly cast to a compatible dtype first.\n",
            "  x.loc[:, col] = x[col].astype(str)\n",
            "<ipython-input-5-e6a91ad6f264>:56: FutureWarning: Setting an item of incompatible dtype is deprecated and will raise in a future error of pandas. Value '['1.0' '1.0' '1.0' ... '1.0' '0.0' '1.0']' has dtype incompatible with float64, please explicitly cast to a compatible dtype first.\n",
            "  test.loc[:, col] = test[col].astype(str)     #.loc[] 활용해야 안전\n",
            "<ipython-input-5-e6a91ad6f264>:55: FutureWarning: Setting an item of incompatible dtype is deprecated and will raise in a future error of pandas. Value '['0.0' '0.0' '0.0' ... '0.0' '0.0' '0.0']' has dtype incompatible with float64, please explicitly cast to a compatible dtype first.\n",
            "  x.loc[:, col] = x[col].astype(str)\n",
            "<ipython-input-5-e6a91ad6f264>:56: FutureWarning: Setting an item of incompatible dtype is deprecated and will raise in a future error of pandas. Value '['0.0' '0.0' '0.0' ... '0.0' '0.0' '0.0']' has dtype incompatible with float64, please explicitly cast to a compatible dtype first.\n",
            "  test.loc[:, col] = test[col].astype(str)     #.loc[] 활용해야 안전\n",
            "<ipython-input-5-e6a91ad6f264>:55: FutureWarning: Setting an item of incompatible dtype is deprecated and will raise in a future error of pandas. Value '['0.0' '0.0' '0.0' ... '0.0' '0.0' '0.0']' has dtype incompatible with float64, please explicitly cast to a compatible dtype first.\n",
            "  x.loc[:, col] = x[col].astype(str)\n",
            "<ipython-input-5-e6a91ad6f264>:56: FutureWarning: Setting an item of incompatible dtype is deprecated and will raise in a future error of pandas. Value '['0.0' '0.0' '0.0' ... '0.0' '0.0' '0.0']' has dtype incompatible with float64, please explicitly cast to a compatible dtype first.\n",
            "  test.loc[:, col] = test[col].astype(str)     #.loc[] 활용해야 안전\n",
            "<ipython-input-5-e6a91ad6f264>:55: FutureWarning: Setting an item of incompatible dtype is deprecated and will raise in a future error of pandas. Value '['nan' 'nan' 'nan' ... 'nan' 'nan' 'nan']' has dtype incompatible with float64, please explicitly cast to a compatible dtype first.\n",
            "  x.loc[:, col] = x[col].astype(str)\n",
            "<ipython-input-5-e6a91ad6f264>:56: FutureWarning: Setting an item of incompatible dtype is deprecated and will raise in a future error of pandas. Value '['nan' 'nan' 'nan' ... 'nan' 'nan' 'nan']' has dtype incompatible with float64, please explicitly cast to a compatible dtype first.\n",
            "  test.loc[:, col] = test[col].astype(str)     #.loc[] 활용해야 안전\n",
            "<ipython-input-5-e6a91ad6f264>:55: FutureWarning: Setting an item of incompatible dtype is deprecated and will raise in a future error of pandas. Value '['nan' 'nan' 'nan' ... 'nan' 'nan' 'nan']' has dtype incompatible with float64, please explicitly cast to a compatible dtype first.\n",
            "  x.loc[:, col] = x[col].astype(str)\n",
            "<ipython-input-5-e6a91ad6f264>:56: FutureWarning: Setting an item of incompatible dtype is deprecated and will raise in a future error of pandas. Value '['nan' 'nan' 'nan' ... 'nan' 'nan' 'nan']' has dtype incompatible with float64, please explicitly cast to a compatible dtype first.\n",
            "  test.loc[:, col] = test[col].astype(str)     #.loc[] 활용해야 안전\n"
          ]
        }
      ]
    },
    {
      "cell_type": "code",
      "source": [
        "#수치형 컬럼 전체 정의\n",
        "numeric_columns = [\n",
        "    \"임신 시도 또는 마지막 임신 경과 연수\",\n",
        "    \"총 생성 배아 수\",\n",
        "    \"미세주입된 난자 수\",\n",
        "    \"미세주입에서 생성된 배아 수\",\n",
        "    \"이식된 배아 수\",\n",
        "    \"미세주입 배아 이식 수\",\n",
        "    \"저장된 배아 수\",\n",
        "    \"미세주입 후 저장된 배아 수\",\n",
        "    \"해동된 배아 수\",\n",
        "    \"해동 난자 수\",\n",
        "    \"수집된 신선 난자 수\",\n",
        "    \"저장된 신선 난자 수\",\n",
        "    \"혼합된 난자 수\",\n",
        "    \"파트너 정자와 혼합된 난자 수\",\n",
        "    \"기증자 정자와 혼합된 난자 수\",\n",
        "    \"난자 채취 경과일\",\n",
        "    \"난자 해동 경과일\",\n",
        "    \"난자 혼합 경과일\",\n",
        "    \"배아 이식 경과일\",\n",
        "    \"배아 해동 경과일\"\n",
        "]"
      ],
      "metadata": {
        "id": "rjVsuk3ZsEoh"
      },
      "execution_count": 6,
      "outputs": []
    },
    {
      "cell_type": "code",
      "execution_count": 7,
      "metadata": {
        "id": "b0t_HpPQI85o"
      },
      "outputs": [],
      "source": [
        "#train 데이터를 train/val로 분할\n",
        "x_train, x_val, y_train, y_val = train_test_split(\n",
        "    x, y, test_size=0.2, random_state=42, stratify=y\n",
        ")"
      ]
    },
    {
      "cell_type": "code",
      "source": [
        "# for col in categorical_columns:\n",
        "#     most_frequent_value = x_train[col].mode()[0]  # 최빈값\n",
        "#     x_train[col].fillna(most_frequent_value, inplace=True)\n",
        "#     x_val[col].fillna(most_frequent_value, inplace=True)\n",
        "#     test[col].fillna(most_frequent_value, inplace=True)"
      ],
      "metadata": {
        "id": "a7QVPQjjdcUt"
      },
      "execution_count": 8,
      "outputs": []
    },
    {
      "cell_type": "code",
      "source": [
        "# for col in categorical_columns:\n",
        "#     freq = x_train[col].value_counts(normalize=True)  # 비율 계산\n",
        "#     threshold = 0.01  # 1% 미만의 희귀값을 이상치로 간주\n",
        "#     rare_values = freq[freq < threshold].index\n",
        "#     x_train[col] = x_train[col].replace(rare_values, \"Other\")\n",
        "#     x_val[col] = x_val[col].replace(rare_values, \"Other\")\n",
        "#     test[col] = test[col].replace(rare_values, \"Other\")"
      ],
      "metadata": {
        "id": "rUCJ8Q_9doG1"
      },
      "execution_count": 9,
      "outputs": []
    },
    {
      "cell_type": "code",
      "execution_count": 10,
      "metadata": {
        "id": "fhodTl8yg5to"
      },
      "outputs": [],
      "source": [
        "#범주형 변수 인코딩\n",
        "ordinal_encoder = OrdinalEncoder(handle_unknown='use_encoded_value', unknown_value=-1)\n",
        "x_train_enc = x_train.copy()\n",
        "x_train_enc[categorical_columns] = ordinal_encoder.fit_transform(x_train_enc[categorical_columns])\n",
        "\n",
        "x_val_enc   = x_val.copy()\n",
        "x_val_enc[categorical_columns]   = ordinal_encoder.transform(x_val_enc[categorical_columns])\n"
      ]
    },
    {
      "cell_type": "code",
      "source": [
        "# imputer = SimpleImputer(strategy='most_frequent')\n",
        "# x_train_enc[numeric_columns] = imputer.fit_transform(x_train_enc[numeric_columns])\n",
        "# x_val_enc[numeric_columns] = imputer.transform(x_val_enc[numeric_columns])"
      ],
      "metadata": {
        "id": "s1Ss1G5Dj5zO"
      },
      "execution_count": 11,
      "outputs": []
    },
    {
      "cell_type": "code",
      "execution_count": 12,
      "metadata": {
        "id": "eqeJQFTug_Op"
      },
      "outputs": [],
      "source": [
        "#수치형 변수 결측치 대체 (중앙값 사용)\n",
        "imputer = SimpleImputer(strategy='median')\n",
        "x_train_enc[numeric_columns] = imputer.fit_transform(x_train_enc[numeric_columns])\n",
        "x_val_enc[numeric_columns]   = imputer.transform(x_val_enc[numeric_columns])\n"
      ]
    },
    {
      "cell_type": "code",
      "source": [
        "!pip install catboost"
      ],
      "metadata": {
        "colab": {
          "base_uri": "https://localhost:8080/"
        },
        "id": "D_DN2HPbjTmo",
        "outputId": "1c9cfe9e-bd53-4ee4-e91a-109add5b05ad"
      },
      "execution_count": 13,
      "outputs": [
        {
          "output_type": "stream",
          "name": "stdout",
          "text": [
            "Collecting catboost\n",
            "  Downloading catboost-1.2.7-cp311-cp311-manylinux2014_x86_64.whl.metadata (1.2 kB)\n",
            "Requirement already satisfied: graphviz in /usr/local/lib/python3.11/dist-packages (from catboost) (0.20.3)\n",
            "Requirement already satisfied: matplotlib in /usr/local/lib/python3.11/dist-packages (from catboost) (3.10.0)\n",
            "Requirement already satisfied: numpy<2.0,>=1.16.0 in /usr/local/lib/python3.11/dist-packages (from catboost) (1.26.4)\n",
            "Requirement already satisfied: pandas>=0.24 in /usr/local/lib/python3.11/dist-packages (from catboost) (2.2.2)\n",
            "Requirement already satisfied: scipy in /usr/local/lib/python3.11/dist-packages (from catboost) (1.13.1)\n",
            "Requirement already satisfied: plotly in /usr/local/lib/python3.11/dist-packages (from catboost) (5.24.1)\n",
            "Requirement already satisfied: six in /usr/local/lib/python3.11/dist-packages (from catboost) (1.17.0)\n",
            "Requirement already satisfied: python-dateutil>=2.8.2 in /usr/local/lib/python3.11/dist-packages (from pandas>=0.24->catboost) (2.8.2)\n",
            "Requirement already satisfied: pytz>=2020.1 in /usr/local/lib/python3.11/dist-packages (from pandas>=0.24->catboost) (2025.1)\n",
            "Requirement already satisfied: tzdata>=2022.7 in /usr/local/lib/python3.11/dist-packages (from pandas>=0.24->catboost) (2025.1)\n",
            "Requirement already satisfied: contourpy>=1.0.1 in /usr/local/lib/python3.11/dist-packages (from matplotlib->catboost) (1.3.1)\n",
            "Requirement already satisfied: cycler>=0.10 in /usr/local/lib/python3.11/dist-packages (from matplotlib->catboost) (0.12.1)\n",
            "Requirement already satisfied: fonttools>=4.22.0 in /usr/local/lib/python3.11/dist-packages (from matplotlib->catboost) (4.56.0)\n",
            "Requirement already satisfied: kiwisolver>=1.3.1 in /usr/local/lib/python3.11/dist-packages (from matplotlib->catboost) (1.4.8)\n",
            "Requirement already satisfied: packaging>=20.0 in /usr/local/lib/python3.11/dist-packages (from matplotlib->catboost) (24.2)\n",
            "Requirement already satisfied: pillow>=8 in /usr/local/lib/python3.11/dist-packages (from matplotlib->catboost) (11.1.0)\n",
            "Requirement already satisfied: pyparsing>=2.3.1 in /usr/local/lib/python3.11/dist-packages (from matplotlib->catboost) (3.2.1)\n",
            "Requirement already satisfied: tenacity>=6.2.0 in /usr/local/lib/python3.11/dist-packages (from plotly->catboost) (9.0.0)\n",
            "Downloading catboost-1.2.7-cp311-cp311-manylinux2014_x86_64.whl (98.7 MB)\n",
            "\u001b[2K   \u001b[90m━━━━━━━━━━━━━━━━━━━━━━━━━━━━━━━━━━━━━━━━\u001b[0m \u001b[32m98.7/98.7 MB\u001b[0m \u001b[31m9.5 MB/s\u001b[0m eta \u001b[36m0:00:00\u001b[0m\n",
            "\u001b[?25hInstalling collected packages: catboost\n",
            "Successfully installed catboost-1.2.7\n"
          ]
        }
      ]
    },
    {
      "cell_type": "code",
      "source": [
        "from catboost import CatBoostClassifier\n",
        "\n",
        "# CatBoost 모델 설정\n",
        "cat_model = CatBoostClassifier(\n",
        "    iterations=1000,\n",
        "    learning_rate=0.01,\n",
        "    depth=10,\n",
        "    random_seed=100,\n",
        "    loss_function='Logloss',\n",
        "    verbose=10,\n",
        "    #eval_metric= Binary f1_score,\n",
        "    scale_pos_weight=3,\n",
        "    one_hot_max_size=1\n",
        ")\n"
      ],
      "metadata": {
        "id": "sBygGDNJi2BW"
      },
      "execution_count": 73,
      "outputs": []
    },
    {
      "cell_type": "code",
      "source": [
        "\n",
        "# 모델 학습 (early_stopping 적용)\n",
        "cat_model.fit(\n",
        "    x_train_enc, y_train,\n",
        "    eval_set=[(x_val_enc, y_val)],\n",
        "    early_stopping_rounds=10\n",
        ")\n"
      ],
      "metadata": {
        "colab": {
          "base_uri": "https://localhost:8080/"
        },
        "id": "wOO4YrhnjGZb",
        "outputId": "c3914269-b1d2-4066-e04b-0c975cf547a2"
      },
      "execution_count": 74,
      "outputs": [
        {
          "output_type": "stream",
          "name": "stdout",
          "text": [
            "0:\tlearn: 0.6892086\ttest: 0.6892787\tbest: 0.6892787 (0)\ttotal: 142ms\tremaining: 2m 22s\n",
            "10:\tlearn: 0.6571971\ttest: 0.6578137\tbest: 0.6578137 (10)\ttotal: 1.73s\tremaining: 2m 35s\n",
            "20:\tlearn: 0.6354031\ttest: 0.6364902\tbest: 0.6364902 (20)\ttotal: 3.88s\tremaining: 3m 1s\n",
            "30:\tlearn: 0.6210995\ttest: 0.6225719\tbest: 0.6225719 (30)\ttotal: 5.35s\tremaining: 2m 47s\n",
            "40:\tlearn: 0.6117737\ttest: 0.6136233\tbest: 0.6136233 (40)\ttotal: 6.83s\tremaining: 2m 39s\n",
            "50:\tlearn: 0.6046114\ttest: 0.6068067\tbest: 0.6068067 (50)\ttotal: 8.29s\tremaining: 2m 34s\n",
            "60:\tlearn: 0.5990416\ttest: 0.6015512\tbest: 0.6015512 (60)\ttotal: 9.75s\tremaining: 2m 30s\n",
            "70:\tlearn: 0.5949322\ttest: 0.5977498\tbest: 0.5977498 (70)\ttotal: 11.2s\tremaining: 2m 26s\n",
            "80:\tlearn: 0.5911194\ttest: 0.5941979\tbest: 0.5941979 (80)\ttotal: 12.6s\tremaining: 2m 23s\n",
            "90:\tlearn: 0.5882795\ttest: 0.5915728\tbest: 0.5915728 (90)\ttotal: 14.5s\tremaining: 2m 24s\n",
            "100:\tlearn: 0.5859213\ttest: 0.5894675\tbest: 0.5894675 (100)\ttotal: 16.3s\tremaining: 2m 25s\n",
            "110:\tlearn: 0.5840609\ttest: 0.5878895\tbest: 0.5878895 (110)\ttotal: 17.7s\tremaining: 2m 21s\n",
            "120:\tlearn: 0.5824519\ttest: 0.5865596\tbest: 0.5865596 (120)\ttotal: 19.2s\tremaining: 2m 19s\n",
            "130:\tlearn: 0.5809648\ttest: 0.5853228\tbest: 0.5853228 (130)\ttotal: 20.6s\tremaining: 2m 16s\n",
            "140:\tlearn: 0.5796437\ttest: 0.5842363\tbest: 0.5842363 (140)\ttotal: 22s\tremaining: 2m 14s\n",
            "150:\tlearn: 0.5785933\ttest: 0.5834016\tbest: 0.5834016 (150)\ttotal: 23.5s\tremaining: 2m 11s\n",
            "160:\tlearn: 0.5776495\ttest: 0.5826876\tbest: 0.5826876 (160)\ttotal: 24.9s\tremaining: 2m 9s\n",
            "170:\tlearn: 0.5767905\ttest: 0.5820562\tbest: 0.5820562 (170)\ttotal: 26.9s\tremaining: 2m 10s\n",
            "180:\tlearn: 0.5760437\ttest: 0.5815203\tbest: 0.5815203 (180)\ttotal: 28.6s\tremaining: 2m 9s\n",
            "190:\tlearn: 0.5753482\ttest: 0.5810417\tbest: 0.5810417 (190)\ttotal: 30.1s\tremaining: 2m 7s\n",
            "200:\tlearn: 0.5746800\ttest: 0.5806041\tbest: 0.5806041 (200)\ttotal: 32.4s\tremaining: 2m 8s\n",
            "210:\tlearn: 0.5741160\ttest: 0.5802366\tbest: 0.5802366 (210)\ttotal: 34.3s\tremaining: 2m 8s\n",
            "220:\tlearn: 0.5735720\ttest: 0.5799076\tbest: 0.5799076 (220)\ttotal: 35.7s\tremaining: 2m 5s\n",
            "230:\tlearn: 0.5730386\ttest: 0.5795927\tbest: 0.5795927 (230)\ttotal: 37.2s\tremaining: 2m 3s\n",
            "240:\tlearn: 0.5725625\ttest: 0.5793350\tbest: 0.5793350 (240)\ttotal: 39.3s\tremaining: 2m 3s\n",
            "250:\tlearn: 0.5722115\ttest: 0.5791593\tbest: 0.5791593 (250)\ttotal: 40.8s\tremaining: 2m 1s\n",
            "260:\tlearn: 0.5717734\ttest: 0.5789660\tbest: 0.5789660 (260)\ttotal: 42.3s\tremaining: 1m 59s\n",
            "270:\tlearn: 0.5713812\ttest: 0.5787882\tbest: 0.5787882 (270)\ttotal: 43.7s\tremaining: 1m 57s\n",
            "280:\tlearn: 0.5709623\ttest: 0.5785732\tbest: 0.5785732 (280)\ttotal: 45.1s\tremaining: 1m 55s\n",
            "290:\tlearn: 0.5706491\ttest: 0.5784215\tbest: 0.5784215 (290)\ttotal: 46.6s\tremaining: 1m 53s\n",
            "300:\tlearn: 0.5703015\ttest: 0.5782813\tbest: 0.5782813 (300)\ttotal: 48s\tremaining: 1m 51s\n",
            "310:\tlearn: 0.5700030\ttest: 0.5781552\tbest: 0.5781552 (310)\ttotal: 49.4s\tremaining: 1m 49s\n",
            "320:\tlearn: 0.5697087\ttest: 0.5780225\tbest: 0.5780225 (320)\ttotal: 51.6s\tremaining: 1m 49s\n",
            "330:\tlearn: 0.5693875\ttest: 0.5779062\tbest: 0.5779062 (330)\ttotal: 53.2s\tremaining: 1m 47s\n",
            "340:\tlearn: 0.5691477\ttest: 0.5777935\tbest: 0.5777935 (340)\ttotal: 54.6s\tremaining: 1m 45s\n",
            "350:\tlearn: 0.5688586\ttest: 0.5776992\tbest: 0.5776992 (350)\ttotal: 56.1s\tremaining: 1m 43s\n",
            "360:\tlearn: 0.5685862\ttest: 0.5776096\tbest: 0.5776096 (360)\ttotal: 57.5s\tremaining: 1m 41s\n",
            "370:\tlearn: 0.5683622\ttest: 0.5775252\tbest: 0.5775252 (370)\ttotal: 59s\tremaining: 1m 39s\n",
            "380:\tlearn: 0.5681011\ttest: 0.5774408\tbest: 0.5774408 (380)\ttotal: 1m\tremaining: 1m 38s\n",
            "390:\tlearn: 0.5677882\ttest: 0.5773599\tbest: 0.5773599 (390)\ttotal: 1m 1s\tremaining: 1m 36s\n",
            "400:\tlearn: 0.5675157\ttest: 0.5772455\tbest: 0.5772455 (400)\ttotal: 1m 4s\tremaining: 1m 35s\n",
            "410:\tlearn: 0.5672951\ttest: 0.5771682\tbest: 0.5771682 (410)\ttotal: 1m 5s\tremaining: 1m 34s\n",
            "420:\tlearn: 0.5670201\ttest: 0.5770876\tbest: 0.5770876 (420)\ttotal: 1m 7s\tremaining: 1m 32s\n",
            "430:\tlearn: 0.5667917\ttest: 0.5770201\tbest: 0.5770201 (430)\ttotal: 1m 8s\tremaining: 1m 30s\n",
            "440:\tlearn: 0.5665752\ttest: 0.5769504\tbest: 0.5769504 (440)\ttotal: 1m 10s\tremaining: 1m 28s\n",
            "450:\tlearn: 0.5663642\ttest: 0.5769002\tbest: 0.5769002 (450)\ttotal: 1m 11s\tremaining: 1m 27s\n",
            "460:\tlearn: 0.5661578\ttest: 0.5768556\tbest: 0.5768556 (460)\ttotal: 1m 12s\tremaining: 1m 25s\n",
            "470:\tlearn: 0.5659402\ttest: 0.5768123\tbest: 0.5768123 (470)\ttotal: 1m 14s\tremaining: 1m 23s\n",
            "480:\tlearn: 0.5657434\ttest: 0.5767525\tbest: 0.5767525 (480)\ttotal: 1m 16s\tremaining: 1m 22s\n",
            "490:\tlearn: 0.5655252\ttest: 0.5767171\tbest: 0.5767171 (490)\ttotal: 1m 18s\tremaining: 1m 21s\n",
            "500:\tlearn: 0.5653330\ttest: 0.5766870\tbest: 0.5766870 (500)\ttotal: 1m 19s\tremaining: 1m 19s\n",
            "510:\tlearn: 0.5651901\ttest: 0.5766683\tbest: 0.5766683 (510)\ttotal: 1m 21s\tremaining: 1m 17s\n",
            "520:\tlearn: 0.5650326\ttest: 0.5766275\tbest: 0.5766275 (520)\ttotal: 1m 22s\tremaining: 1m 15s\n",
            "530:\tlearn: 0.5648322\ttest: 0.5765948\tbest: 0.5765948 (530)\ttotal: 1m 23s\tremaining: 1m 14s\n",
            "540:\tlearn: 0.5646864\ttest: 0.5765494\tbest: 0.5765494 (540)\ttotal: 1m 25s\tremaining: 1m 12s\n",
            "550:\tlearn: 0.5645144\ttest: 0.5765070\tbest: 0.5765070 (550)\ttotal: 1m 27s\tremaining: 1m 11s\n",
            "560:\tlearn: 0.5643629\ttest: 0.5764902\tbest: 0.5764889 (558)\ttotal: 1m 29s\tremaining: 1m 9s\n",
            "570:\tlearn: 0.5641505\ttest: 0.5764599\tbest: 0.5764599 (570)\ttotal: 1m 30s\tremaining: 1m 8s\n",
            "580:\tlearn: 0.5639622\ttest: 0.5764105\tbest: 0.5764105 (580)\ttotal: 1m 32s\tremaining: 1m 6s\n",
            "590:\tlearn: 0.5638290\ttest: 0.5763912\tbest: 0.5763904 (588)\ttotal: 1m 33s\tremaining: 1m 4s\n",
            "600:\tlearn: 0.5636370\ttest: 0.5763538\tbest: 0.5763538 (600)\ttotal: 1m 34s\tremaining: 1m 3s\n",
            "610:\tlearn: 0.5634907\ttest: 0.5763372\tbest: 0.5763372 (610)\ttotal: 1m 36s\tremaining: 1m 1s\n",
            "620:\tlearn: 0.5632937\ttest: 0.5763158\tbest: 0.5763158 (620)\ttotal: 1m 37s\tremaining: 59.7s\n",
            "630:\tlearn: 0.5631245\ttest: 0.5762833\tbest: 0.5762833 (630)\ttotal: 1m 40s\tremaining: 58.6s\n",
            "640:\tlearn: 0.5630105\ttest: 0.5762517\tbest: 0.5762517 (640)\ttotal: 1m 41s\tremaining: 56.9s\n",
            "650:\tlearn: 0.5627971\ttest: 0.5762311\tbest: 0.5762311 (650)\ttotal: 1m 43s\tremaining: 55.3s\n",
            "660:\tlearn: 0.5626247\ttest: 0.5762123\tbest: 0.5762123 (660)\ttotal: 1m 44s\tremaining: 53.6s\n",
            "670:\tlearn: 0.5624690\ttest: 0.5762015\tbest: 0.5762015 (668)\ttotal: 1m 46s\tremaining: 52s\n",
            "680:\tlearn: 0.5623603\ttest: 0.5761858\tbest: 0.5761858 (680)\ttotal: 1m 47s\tremaining: 50.3s\n",
            "690:\tlearn: 0.5622427\ttest: 0.5761638\tbest: 0.5761638 (690)\ttotal: 1m 48s\tremaining: 48.7s\n",
            "700:\tlearn: 0.5620590\ttest: 0.5761341\tbest: 0.5761341 (700)\ttotal: 1m 50s\tremaining: 47.2s\n",
            "710:\tlearn: 0.5619234\ttest: 0.5761119\tbest: 0.5761119 (710)\ttotal: 1m 52s\tremaining: 45.8s\n",
            "720:\tlearn: 0.5617828\ttest: 0.5761008\tbest: 0.5760997 (719)\ttotal: 1m 54s\tremaining: 44.2s\n",
            "730:\tlearn: 0.5616726\ttest: 0.5760895\tbest: 0.5760895 (730)\ttotal: 1m 55s\tremaining: 42.6s\n",
            "740:\tlearn: 0.5615522\ttest: 0.5760829\tbest: 0.5760829 (740)\ttotal: 1m 57s\tremaining: 40.9s\n",
            "750:\tlearn: 0.5614410\ttest: 0.5760624\tbest: 0.5760624 (750)\ttotal: 1m 58s\tremaining: 39.3s\n",
            "760:\tlearn: 0.5613286\ttest: 0.5760517\tbest: 0.5760517 (760)\ttotal: 1m 59s\tremaining: 37.7s\n",
            "770:\tlearn: 0.5611543\ttest: 0.5760310\tbest: 0.5760310 (770)\ttotal: 2m 1s\tremaining: 36.1s\n",
            "780:\tlearn: 0.5610166\ttest: 0.5760176\tbest: 0.5760176 (780)\ttotal: 2m 3s\tremaining: 34.7s\n",
            "790:\tlearn: 0.5609086\ttest: 0.5760042\tbest: 0.5760042 (790)\ttotal: 2m 5s\tremaining: 33.1s\n",
            "800:\tlearn: 0.5608007\ttest: 0.5760071\tbest: 0.5760037 (791)\ttotal: 2m 6s\tremaining: 31.5s\n",
            "Stopped by overfitting detector  (10 iterations wait)\n",
            "\n",
            "bestTest = 0.5760037494\n",
            "bestIteration = 791\n",
            "\n",
            "Shrink model to first 792 iterations.\n"
          ]
        },
        {
          "output_type": "execute_result",
          "data": {
            "text/plain": [
              "<catboost.core.CatBoostClassifier at 0x799e670b0710>"
            ]
          },
          "metadata": {},
          "execution_count": 74
        }
      ]
    },
    {
      "cell_type": "code",
      "source": [
        "# 검증 데이터 ROC-AUC 평가\n",
        "val_pred_proba = cat_model.predict_proba(x_val_enc)[:, 1]\n",
        "val_roc_auc = roc_auc_score(y_val, val_pred_proba)\n",
        "print(\"cat Validation ROC-AUC:\", val_roc_auc)"
      ],
      "metadata": {
        "colab": {
          "base_uri": "https://localhost:8080/"
        },
        "id": "wjPVNmlUja7J",
        "outputId": "0e0e5a86-0d18-4c80-dedd-b49fd0a92f3c"
      },
      "execution_count": 75,
      "outputs": [
        {
          "output_type": "stream",
          "name": "stdout",
          "text": [
            "cat Validation ROC-AUC: 0.7374317559104839\n"
          ]
        }
      ]
    },
    {
      "cell_type": "code",
      "source": [
        "#전체 학습 데이터 전처리 적용\n",
        "x_full_enc = x.copy()\n",
        "x_full_enc[categorical_columns] = ordinal_encoder.transform(x_full_enc[categorical_columns])  # fit X\n",
        "x_full_enc[numeric_columns] = imputer.transform(x_full_enc[numeric_columns])  # fit X"
      ],
      "metadata": {
        "id": "NcSvbO2MkLKA"
      },
      "execution_count": 76,
      "outputs": []
    },
    {
      "cell_type": "code",
      "source": [
        "#최종 XGBoost 모델 (단, early stopping 없이 기본 n_estimators 사용)\n",
        "model_full = CatBoostClassifier(\n",
        "    iterations=1000,\n",
        "    learning_rate=0.01,\n",
        "    depth=10,\n",
        "    random_seed=100,\n",
        "    loss_function='Logloss',\n",
        "    verbose=10,\n",
        "    #eval_metric= Binary f1_score,\n",
        "    scale_pos_weight=3,\n",
        "    one_hot_max_size=1\n",
        ")\n",
        "\n",
        "model_full.fit(x_full_enc, y)"
      ],
      "metadata": {
        "colab": {
          "base_uri": "https://localhost:8080/"
        },
        "id": "uFVaKijLjt3V",
        "outputId": "fb130368-275e-46d3-ec05-73daf7927387"
      },
      "execution_count": 77,
      "outputs": [
        {
          "output_type": "stream",
          "name": "stdout",
          "text": [
            "0:\tlearn: 0.6892456\ttotal: 212ms\tremaining: 3m 31s\n",
            "10:\tlearn: 0.6581146\ttotal: 1.94s\tremaining: 2m 54s\n",
            "20:\tlearn: 0.6364030\ttotal: 3.69s\tremaining: 2m 52s\n",
            "30:\tlearn: 0.6216175\ttotal: 6.19s\tremaining: 3m 13s\n",
            "40:\tlearn: 0.6111211\ttotal: 8.12s\tremaining: 3m 9s\n",
            "50:\tlearn: 0.6041628\ttotal: 10.7s\tremaining: 3m 19s\n",
            "60:\tlearn: 0.5988305\ttotal: 12.4s\tremaining: 3m 11s\n",
            "70:\tlearn: 0.5947744\ttotal: 14.2s\tremaining: 3m 6s\n",
            "80:\tlearn: 0.5915959\ttotal: 16s\tremaining: 3m 1s\n",
            "90:\tlearn: 0.5889339\ttotal: 18.5s\tremaining: 3m 5s\n",
            "100:\tlearn: 0.5865037\ttotal: 20.4s\tremaining: 3m 1s\n",
            "110:\tlearn: 0.5846020\ttotal: 22.1s\tremaining: 2m 57s\n",
            "120:\tlearn: 0.5830530\ttotal: 23.9s\tremaining: 2m 53s\n",
            "130:\tlearn: 0.5817585\ttotal: 25.7s\tremaining: 2m 50s\n",
            "140:\tlearn: 0.5804962\ttotal: 27.4s\tremaining: 2m 47s\n",
            "150:\tlearn: 0.5794852\ttotal: 30s\tremaining: 2m 48s\n",
            "160:\tlearn: 0.5786231\ttotal: 32.5s\tremaining: 2m 49s\n",
            "170:\tlearn: 0.5778266\ttotal: 36.2s\tremaining: 2m 55s\n",
            "180:\tlearn: 0.5770870\ttotal: 38.6s\tremaining: 2m 54s\n",
            "190:\tlearn: 0.5764467\ttotal: 40.4s\tremaining: 2m 51s\n",
            "200:\tlearn: 0.5757822\ttotal: 44.1s\tremaining: 2m 55s\n",
            "210:\tlearn: 0.5752280\ttotal: 46.3s\tremaining: 2m 53s\n",
            "220:\tlearn: 0.5746731\ttotal: 48.9s\tremaining: 2m 52s\n",
            "230:\tlearn: 0.5742003\ttotal: 50.7s\tremaining: 2m 48s\n",
            "240:\tlearn: 0.5737586\ttotal: 52.5s\tremaining: 2m 45s\n",
            "250:\tlearn: 0.5733801\ttotal: 54.5s\tremaining: 2m 42s\n",
            "260:\tlearn: 0.5729703\ttotal: 56.9s\tremaining: 2m 41s\n",
            "270:\tlearn: 0.5725938\ttotal: 59.2s\tremaining: 2m 39s\n",
            "280:\tlearn: 0.5722359\ttotal: 1m 2s\tremaining: 2m 38s\n",
            "290:\tlearn: 0.5718870\ttotal: 1m 5s\tremaining: 2m 39s\n",
            "300:\tlearn: 0.5715451\ttotal: 1m 9s\tremaining: 2m 41s\n",
            "310:\tlearn: 0.5712543\ttotal: 1m 12s\tremaining: 2m 39s\n",
            "320:\tlearn: 0.5709540\ttotal: 1m 14s\tremaining: 2m 38s\n",
            "330:\tlearn: 0.5706861\ttotal: 1m 16s\tremaining: 2m 35s\n",
            "340:\tlearn: 0.5704536\ttotal: 1m 18s\tremaining: 2m 31s\n",
            "350:\tlearn: 0.5701934\ttotal: 1m 21s\tremaining: 2m 30s\n",
            "360:\tlearn: 0.5699133\ttotal: 1m 22s\tremaining: 2m 26s\n",
            "370:\tlearn: 0.5696993\ttotal: 1m 24s\tremaining: 2m 23s\n",
            "380:\tlearn: 0.5694377\ttotal: 1m 26s\tremaining: 2m 20s\n",
            "390:\tlearn: 0.5691796\ttotal: 1m 28s\tremaining: 2m 17s\n",
            "400:\tlearn: 0.5689161\ttotal: 1m 30s\tremaining: 2m 14s\n",
            "410:\tlearn: 0.5687224\ttotal: 1m 32s\tremaining: 2m 12s\n",
            "420:\tlearn: 0.5685187\ttotal: 1m 34s\tremaining: 2m 9s\n",
            "430:\tlearn: 0.5683173\ttotal: 1m 36s\tremaining: 2m 7s\n",
            "440:\tlearn: 0.5681606\ttotal: 1m 38s\tremaining: 2m 4s\n",
            "450:\tlearn: 0.5679625\ttotal: 1m 39s\tremaining: 2m 1s\n",
            "460:\tlearn: 0.5677723\ttotal: 1m 41s\tremaining: 1m 58s\n",
            "470:\tlearn: 0.5676004\ttotal: 1m 43s\tremaining: 1m 56s\n",
            "480:\tlearn: 0.5674222\ttotal: 1m 46s\tremaining: 1m 54s\n",
            "490:\tlearn: 0.5672768\ttotal: 1m 47s\tremaining: 1m 51s\n",
            "500:\tlearn: 0.5671040\ttotal: 1m 49s\tremaining: 1m 49s\n",
            "510:\tlearn: 0.5669128\ttotal: 1m 51s\tremaining: 1m 46s\n",
            "520:\tlearn: 0.5667722\ttotal: 1m 53s\tremaining: 1m 44s\n",
            "530:\tlearn: 0.5666483\ttotal: 1m 55s\tremaining: 1m 41s\n",
            "540:\tlearn: 0.5665036\ttotal: 1m 57s\tremaining: 1m 39s\n",
            "550:\tlearn: 0.5663256\ttotal: 1m 59s\tremaining: 1m 37s\n",
            "560:\tlearn: 0.5661641\ttotal: 2m 1s\tremaining: 1m 34s\n",
            "570:\tlearn: 0.5660046\ttotal: 2m 2s\tremaining: 1m 32s\n",
            "580:\tlearn: 0.5658587\ttotal: 2m 4s\tremaining: 1m 29s\n",
            "590:\tlearn: 0.5657073\ttotal: 2m 6s\tremaining: 1m 27s\n",
            "600:\tlearn: 0.5655710\ttotal: 2m 9s\tremaining: 1m 25s\n",
            "610:\tlearn: 0.5654061\ttotal: 2m 10s\tremaining: 1m 23s\n",
            "620:\tlearn: 0.5652697\ttotal: 2m 12s\tremaining: 1m 20s\n",
            "630:\tlearn: 0.5651311\ttotal: 2m 14s\tremaining: 1m 18s\n",
            "640:\tlearn: 0.5650037\ttotal: 2m 16s\tremaining: 1m 16s\n",
            "650:\tlearn: 0.5648689\ttotal: 2m 18s\tremaining: 1m 14s\n",
            "660:\tlearn: 0.5647317\ttotal: 2m 20s\tremaining: 1m 12s\n",
            "670:\tlearn: 0.5645942\ttotal: 2m 22s\tremaining: 1m 9s\n",
            "680:\tlearn: 0.5644660\ttotal: 2m 24s\tremaining: 1m 7s\n",
            "690:\tlearn: 0.5643348\ttotal: 2m 26s\tremaining: 1m 5s\n",
            "700:\tlearn: 0.5642192\ttotal: 2m 27s\tremaining: 1m 3s\n",
            "710:\tlearn: 0.5640741\ttotal: 2m 29s\tremaining: 1m\n",
            "720:\tlearn: 0.5639586\ttotal: 2m 31s\tremaining: 58.7s\n",
            "730:\tlearn: 0.5638271\ttotal: 2m 34s\tremaining: 56.7s\n",
            "740:\tlearn: 0.5637221\ttotal: 2m 35s\tremaining: 54.5s\n",
            "750:\tlearn: 0.5635731\ttotal: 2m 37s\tremaining: 52.3s\n",
            "760:\tlearn: 0.5634811\ttotal: 2m 39s\tremaining: 50s\n",
            "770:\tlearn: 0.5633783\ttotal: 2m 41s\tremaining: 47.9s\n",
            "780:\tlearn: 0.5632375\ttotal: 2m 42s\tremaining: 45.7s\n",
            "790:\tlearn: 0.5631073\ttotal: 2m 45s\tremaining: 43.8s\n",
            "800:\tlearn: 0.5629965\ttotal: 2m 47s\tremaining: 41.7s\n",
            "810:\tlearn: 0.5628587\ttotal: 2m 49s\tremaining: 39.5s\n",
            "820:\tlearn: 0.5627011\ttotal: 2m 51s\tremaining: 37.3s\n",
            "830:\tlearn: 0.5625939\ttotal: 2m 53s\tremaining: 35.2s\n",
            "840:\tlearn: 0.5624542\ttotal: 2m 54s\tremaining: 33.1s\n",
            "850:\tlearn: 0.5623464\ttotal: 2m 57s\tremaining: 31.1s\n",
            "860:\tlearn: 0.5622703\ttotal: 2m 59s\tremaining: 29s\n",
            "870:\tlearn: 0.5621825\ttotal: 3m 1s\tremaining: 26.8s\n",
            "880:\tlearn: 0.5620773\ttotal: 3m 3s\tremaining: 24.7s\n",
            "890:\tlearn: 0.5619559\ttotal: 3m 4s\tremaining: 22.6s\n",
            "900:\tlearn: 0.5618305\ttotal: 3m 6s\tremaining: 20.5s\n",
            "910:\tlearn: 0.5616913\ttotal: 3m 9s\tremaining: 18.5s\n",
            "920:\tlearn: 0.5615590\ttotal: 3m 11s\tremaining: 16.4s\n",
            "930:\tlearn: 0.5614525\ttotal: 3m 12s\tremaining: 14.3s\n",
            "940:\tlearn: 0.5613621\ttotal: 3m 14s\tremaining: 12.2s\n",
            "950:\tlearn: 0.5612697\ttotal: 3m 16s\tremaining: 10.1s\n",
            "960:\tlearn: 0.5611735\ttotal: 3m 18s\tremaining: 8.05s\n",
            "970:\tlearn: 0.5610697\ttotal: 3m 20s\tremaining: 6s\n",
            "980:\tlearn: 0.5609618\ttotal: 3m 22s\tremaining: 3.93s\n",
            "990:\tlearn: 0.5608523\ttotal: 3m 24s\tremaining: 1.86s\n",
            "999:\tlearn: 0.5607551\ttotal: 3m 26s\tremaining: 0us\n"
          ]
        },
        {
          "output_type": "execute_result",
          "data": {
            "text/plain": [
              "<catboost.core.CatBoostClassifier at 0x799e66dd00d0>"
            ]
          },
          "metadata": {},
          "execution_count": 77
        }
      ]
    },
    {
      "cell_type": "code",
      "execution_count": 78,
      "metadata": {
        "id": "y_yGPCDWiJDk"
      },
      "outputs": [],
      "source": [
        "#전체 학습 데이터 전처리 적용\n",
        "x_full_enc = x.copy()\n",
        "x_full_enc[categorical_columns] = ordinal_encoder.transform(x_full_enc[categorical_columns])  # fit X\n",
        "x_full_enc[numeric_columns] = imputer.transform(x_full_enc[numeric_columns])  # fit X"
      ]
    },
    {
      "cell_type": "code",
      "execution_count": 79,
      "metadata": {
        "id": "VJjUZ9-oiVv5"
      },
      "outputs": [],
      "source": [
        "#테스트 데이터 전처리 및 예측\n",
        "x_test_enc = test.copy()\n",
        "x_test_enc[categorical_columns] = ordinal_encoder.transform(x_test_enc[categorical_columns])\n",
        "x_test_enc[numeric_columns] = imputer.transform(x_test_enc[numeric_columns])\n",
        "test_pred_proba = model_full.predict_proba(x_test_enc)[:, 1]"
      ]
    },
    {
      "cell_type": "code",
      "execution_count": 80,
      "metadata": {
        "id": "BJB1T308iWYF",
        "colab": {
          "base_uri": "https://localhost:8080/"
        },
        "outputId": "571a2e42-60c4-4fef-a13e-50e2f7d5dd13"
      },
      "outputs": [
        {
          "output_type": "stream",
          "name": "stdout",
          "text": [
            "Finish! Submission file saved as 0226_cat.csv\n"
          ]
        }
      ],
      "source": [
        "# 제출 파일 생성\n",
        "sample_submission = pd.read_csv('/content/drive/MyDrive/open/sample_submission.csv')\n",
        "\n",
        "sample_submission['probability'] = test_pred_proba\n",
        "sample_submission.to_csv('./0226_cat.csv', index=False)\n",
        "print(\"Finish! Submission file saved as 0226_cat.csv\")"
      ]
    }
  ],
  "metadata": {
    "colab": {
      "provenance": []
    },
    "kernelspec": {
      "display_name": "Python 3",
      "name": "python3"
    },
    "language_info": {
      "codemirror_mode": {
        "name": "ipython",
        "version": 3
      },
      "file_extension": ".py",
      "mimetype": "text/x-python",
      "name": "python",
      "nbconvert_exporter": "python",
      "pygments_lexer": "ipython3",
      "version": "3.13.2"
    }
  },
  "nbformat": 4,
  "nbformat_minor": 0
}